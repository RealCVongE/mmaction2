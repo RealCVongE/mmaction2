{
 "cells": [
  {
   "cell_type": "markdown",
   "metadata": {},
   "source": [
    "# pickle 별 각 사람 visualize"
   ]
  },
  {
   "cell_type": "code",
   "execution_count": 1,
   "metadata": {},
   "outputs": [],
   "source": [
    "import pickle\n",
    "import json\n",
    "import os\n",
    "import numpy as np\n",
    "import torch"
   ]
  },
  {
   "cell_type": "code",
   "execution_count": 2,
   "metadata": {},
   "outputs": [],
   "source": [
    "pkl_file_path = 'softlink_retail/01-1.정식개방데이터/Training/03.pickle데이터/TS_03.이상행동_12.절도/C_1_1_1_BU_DYA_08-13_12-11-02_CA_DF1_M1_M1_9_21.pkl'\n",
    "with open(pkl_file_path,\"rb\") as fr:\n",
    "    data = pickle.load(fr)"
   ]
  },
  {
   "cell_type": "code",
   "execution_count": 3,
   "metadata": {},
   "outputs": [],
   "source": [
    "import matplotlib.pyplot as plt\n",
    "import numpy as np\n",
    "import imageio"
   ]
  },
  {
   "cell_type": "code",
   "execution_count": 4,
   "metadata": {},
   "outputs": [],
   "source": [
    "def points_to_2d(data, index, max_x=1920, max_y=1080):\n",
    "    x = [point[0] for point in data[index]]\n",
    "    y = [point[1] for point in data[index]]\n",
    "    plt.figure(figsize=(10, 8))\n",
    "    plt.plot(x, y, 'bo', label=f'Frame {index}')\n",
    "    plt.xlim(0, max_x)\n",
    "    plt.ylim(max_y, 0)  # Y 축을 뒤집어서 위쪽이 0, 아래쪽이 최대값이 되도록 설정\n",
    "    plt.xlabel('X coordinate')\n",
    "    plt.ylabel('Y coordinate')\n",
    "    plt.title('2D Plane Coordinates Visualization')\n",
    "    plt.legend()\n",
    "    plt.grid(True)\n",
    "    # 이미지로 저장하기 전에 이전 플롯을 지웁니다.\n",
    "    plt.savefig(f'png_work/frame_{index}.png')\n",
    "    plt.close()  # 현재 플롯을 닫아서 다음 플롯이 올바르게 그려지도록 합니다."
   ]
  },
  {
   "cell_type": "code",
   "execution_count": 6,
   "metadata": {},
   "outputs": [],
   "source": [
    "def create_gif(data1, fps=2, num_pkl = 0, num_person = 0) :\n",
    "    for i in range(len(data1)):\n",
    "        points_to_2d(data1, i)\n",
    "    images = []\n",
    "    for i in range(len(data1)):\n",
    "        images.append(imageio.imread(f'png_work/frame_{i}.png'))\n",
    "    imageio.mimsave(f'gifs/plot_animation_{num_pkl}_{num_person}.gif', images, fps=2)  # fps는 초당 프레임 수입니다."
   ]
  },
  {
   "cell_type": "code",
   "execution_count": 7,
   "metadata": {},
   "outputs": [
    {
     "name": "stderr",
     "output_type": "stream",
     "text": [
      "C:\\Users\\ljy25\\AppData\\Local\\Temp\\ipykernel_24016\\3748266472.py:6: DeprecationWarning: Starting with ImageIO v3 the behavior of this function will switch to that of iio.v3.imread. To keep the current behavior (and make this warning disappear) use `import imageio.v2 as imageio` or call `imageio.v2.imread` directly.\n",
      "  images.append(imageio.imread(f'frame_{i}.png'))\n"
     ]
    }
   ],
   "source": [
    "for num_person in range(len(data['keypoint'])) :\n",
    "    each_data = data['keypoint'][num_person]\n",
    "    create_gif(each_data, num_person = num_person)"
   ]
  },
  {
   "cell_type": "code",
   "execution_count": 8,
   "metadata": {},
   "outputs": [],
   "source": [
    "def extract_pkl(directory) :\n",
    "    pkl_path = []\n",
    "    for root, dirs, files in os.walk(directory):\n",
    "        for file in files:\n",
    "            if file.endswith(\".pkl\"):\n",
    "                full_path = os.path.join(root, file)\n",
    "                pkl_path.append(full_path)\n",
    "    return pkl_path"
   ]
  },
  {
   "cell_type": "code",
   "execution_count": 10,
   "metadata": {},
   "outputs": [],
   "source": [
    "path = \"softlink_retail/01-1.정식개방데이터/Training/03.pickle데이터/TS_03.이상행동_12.절도\"\n",
    "pkl_data = extract_pkl(path)"
   ]
  },
  {
   "cell_type": "code",
   "execution_count": null,
   "metadata": {},
   "outputs": [],
   "source": [
    "for num_pkl in range(len(pkl_data)) :\n",
    "    with open(pkl_data[num_pkl],\"rb\") as fr:\n",
    "        temp = pickle.load(fr)\n",
    "\n",
    "        for num_person in range(len(temp['keypoint'])) :\n",
    "            each_data = temp['keypoint'][num_person]\n",
    "            create_gif(each_data, num_pkl = num_pkl, num_person = num_person)"
   ]
  },
  {
   "cell_type": "markdown",
   "metadata": {},
   "source": [
    "# pickle 별 사람 동시에 visualize"
   ]
  },
  {
   "cell_type": "code",
   "execution_count": 11,
   "metadata": {},
   "outputs": [],
   "source": [
    "def plot_2d_all(points, frame):\n",
    "    \"\"\"\n",
    "    Plots given coordinates on a 2D plane and fills the area formed by these points.\n",
    "    \n",
    "    Args:\n",
    "    coordinates (list of lists): A list of [x, y] coordinates to be plotted.\n",
    "    \"\"\"\n",
    "    # Creating the plot\n",
    "    plt.figure(figsize=(10, 8))\n",
    "    #plt.fill(x, y, 'r', alpha=0.3)  # Fill the area formed by the points\n",
    "    plt.xlabel('X coordinate')\n",
    "    plt.ylabel('Y coordinate')\n",
    "    plt.xlim(0, 1920)  # Set x axis limit\n",
    "    plt.ylim(1080, 0)  # Set y axis limit\n",
    "    plt.title('2D Plane Coordinates Visualization')\n",
    "    plt.grid(True)\n",
    "    \n",
    "    # Extracting x and y values from the coordinates\n",
    "    for num_people in range(len(points[0])) :\n",
    "        x = [point[0] for point in points[frame][num_people]]\n",
    "        y = [point[1] for point in points[frame][num_people]]\n",
    "        plt.plot(x, y, 'bo')\n",
    "    \n",
    "    \n",
    "    plt.savefig(f'png_work/frame_{frame}.png')\n",
    "    plt.close()  # 현재 플롯을 닫아서 다음 플롯이 올바르게 그려지도록 합니다."
   ]
  },
  {
   "cell_type": "code",
   "execution_count": null,
   "metadata": {},
   "outputs": [],
   "source": [
    "data_2 = data['keypoint']\n",
    "data3 = data_2.transpose(1,0,2,3) # (frame, num_person, keypoints, axis)"
   ]
  },
  {
   "cell_type": "code",
   "execution_count": null,
   "metadata": {},
   "outputs": [],
   "source": [
    "for frame in range(len(data3)) :\n",
    "    plot_2d_all(data3, frame = frame)"
   ]
  },
  {
   "cell_type": "code",
   "execution_count": 12,
   "metadata": {},
   "outputs": [],
   "source": [
    "def create_gif_all(data, fps=2, num_pkl = 0) :\n",
    "    for frame in range(len(data)) :\n",
    "        plot_2d_all(data, frame = frame)\n",
    "    images = []\n",
    "    for i in range(len(data)):\n",
    "        images.append(imageio.imread(f'png_work/frame_{i}.png'))\n",
    "    imageio.mimsave(f'gifs/plot_animation_{num_pkl}.gif', images, fps=2)  # fps는 초당 프레임 수입니다."
   ]
  },
  {
   "cell_type": "code",
   "execution_count": null,
   "metadata": {},
   "outputs": [],
   "source": [
    "create_gif_all(data3, num_pkl = 0)"
   ]
  },
  {
   "cell_type": "code",
   "execution_count": null,
   "metadata": {},
   "outputs": [],
   "source": [
    "for num_pkl in range(len(pkl_data)) :\n",
    "    with open(pkl_data[num_pkl],\"rb\") as fr:\n",
    "        temp = pickle.load(fr) # (num_person, frame, keypoints, axis)\n",
    "\n",
    "    temp1 = temp['keypoint'].transpose(1,0,2,3) # (frame, num_person, keypoints, axis)\n",
    "    create_gif_all(temp1, num_pkl = num_pkl)"
   ]
  },
  {
   "cell_type": "markdown",
   "metadata": {},
   "source": [
    "# combine pickle"
   ]
  },
  {
   "cell_type": "code",
   "execution_count": 13,
   "metadata": {},
   "outputs": [],
   "source": [
    "import pickle\n",
    "import json\n",
    "import os\n",
    "import numpy as np\n",
    "import torch"
   ]
  },
  {
   "cell_type": "code",
   "execution_count": 14,
   "metadata": {},
   "outputs": [],
   "source": [
    "pkl_file_path = 'softlink_retail/01-1.정식개방데이터/adj_combined_dataset.pkl'\n",
    "with open(pkl_file_path,\"rb\") as fr:\n",
    "    data_combine = pickle.load(fr)"
   ]
  },
  {
   "cell_type": "code",
   "execution_count": 15,
   "metadata": {},
   "outputs": [],
   "source": [
    "def plot_2d_all(points, frame):\n",
    "    \"\"\"\n",
    "    Plots given coordinates on a 2D plane and fills the area formed by these points.\n",
    "    \n",
    "    Args:\n",
    "    coordinates (list of lists): A list of [x, y] coordinates to be plotted.\n",
    "    \"\"\"\n",
    "    # Creating the plot\n",
    "    plt.figure(figsize=(10, 8))\n",
    "    #plt.fill(x, y, 'r', alpha=0.3)  # Fill the area formed by the points\n",
    "    plt.xlabel('X coordinate')\n",
    "    plt.ylabel('Y coordinate')\n",
    "    plt.xlim(0, 1920)  # Set x axis limit\n",
    "    plt.ylim(1080, 0)  # Set y axis limit\n",
    "    plt.title('2D Plane Coordinates Visualization')\n",
    "    plt.grid(True)\n",
    "    \n",
    "    # Extracting x and y values from the coordinates\n",
    "    for num_people in range(len(points[0])) :\n",
    "        x = [point[0] for point in points[frame][num_people]]\n",
    "        y = [point[1] for point in points[frame][num_people]]\n",
    "        plt.plot(x, y, 'bo')\n",
    "    \n",
    "    \n",
    "    plt.savefig(f'png_work/frame_{frame}.png')\n",
    "    plt.close()  # 현재 플롯을 닫아서 다음 플롯이 올바르게 그려지도록 합니다."
   ]
  },
  {
   "cell_type": "code",
   "execution_count": 17,
   "metadata": {},
   "outputs": [],
   "source": [
    "def create_gif_all(data, index, fps=2, num_pkl = 0) :\n",
    "    for frame in range(len(data)) :\n",
    "        plot_2d_all(data, frame = frame)\n",
    "    images = []\n",
    "    for i in range(len(data)):\n",
    "        images.append(imageio.imread(f'png_work/frame_{i}.png'))\n",
    "    imageio.mimsave(f'gifs/plot_animation_all_{index}_{num_pkl}.gif', images, fps=2)  # fps는 초당 프레임 수입니다."
   ]
  },
  {
   "cell_type": "code",
   "execution_count": 18,
   "metadata": {},
   "outputs": [
    {
     "data": {
      "text/plain": [
       "(105, 4, 17, 2)"
      ]
     },
     "execution_count": 18,
     "metadata": {},
     "output_type": "execute_result"
    }
   ],
   "source": [
    "index = 4100\n",
    "data_2 = data_combine['annotations'][index]['keypoint']\n",
    "data3 = data_2.transpose(1,0,2,3) # (frame, num_person, keypoints, axis)\n",
    "data3.shape"
   ]
  },
  {
   "cell_type": "code",
   "execution_count": null,
   "metadata": {},
   "outputs": [],
   "source": [
    "create_gif_all(data3, index = index, num_pkl = 0)"
   ]
  }
 ],
 "metadata": {
  "kernelspec": {
   "display_name": "openmmlab",
   "language": "python",
   "name": "python3"
  },
  "language_info": {
   "codemirror_mode": {
    "name": "ipython",
    "version": 3
   },
   "file_extension": ".py",
   "mimetype": "text/x-python",
   "name": "python",
   "nbconvert_exporter": "python",
   "pygments_lexer": "ipython3",
   "version": "3.8.18"
  }
 },
 "nbformat": 4,
 "nbformat_minor": 2
}
