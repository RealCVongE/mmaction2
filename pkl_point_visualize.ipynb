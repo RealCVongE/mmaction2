{
 "cells": [
  {
   "cell_type": "markdown",
   "metadata": {},
   "source": [
    "# pickle 별 각 사람 visualize"
   ]
  },
  {
   "cell_type": "code",
   "execution_count": 2,
   "metadata": {},
   "outputs": [],
   "source": [
    "import pickle\n",
    "import json\n",
    "import os\n",
    "import numpy as np\n",
    "import torch"
   ]
  },
  {
   "cell_type": "code",
   "execution_count": 84,
   "metadata": {},
   "outputs": [],
   "source": [
    "pkl_file_path = '/home/bigdeal/mnt2/238-2.실내(편의점,_매장)_사람_이상행동_데이터/PreProcessToPkl3/Training/01.원천데이터/TS_03.이상행동_12.절도/C_3_12_3_BU_DYA_07-31_16-19-57_CB_RGB_DF2_F1_126_142.pkl'\n",
    "with open(pkl_file_path,\"rb\") as fr:\n",
    "    data = pickle.load(fr)"
   ]
  },
  {
   "cell_type": "code",
   "execution_count": 59,
   "metadata": {},
   "outputs": [],
   "source": [
    "import matplotlib.pyplot as plt\n",
    "import numpy as np\n",
    "import imageio"
   ]
  },
  {
   "cell_type": "code",
   "execution_count": 60,
   "metadata": {},
   "outputs": [],
   "source": [
    "def points_to_2d(data, index, max_x=1920, max_y=1080):\n",
    "    x = [point[0] for point in data[index]]\n",
    "    y = [point[1] for point in data[index]]\n",
    "    plt.figure(figsize=(10, 8))\n",
    "    plt.plot(x, y, 'bo', label=f'Frame {index}')\n",
    "    plt.xlim(0, max_x)\n",
    "    plt.ylim(max_y, 0)  # Y 축을 뒤집어서 위쪽이 0, 아래쪽이 최대값이 되도록 설정\n",
    "    plt.xlabel('X coordinate')\n",
    "    plt.ylabel('Y coordinate')\n",
    "    plt.title('2D Plane Coordinates Visualization')\n",
    "    plt.legend()\n",
    "    plt.grid(True)\n",
    "    # 이미지로 저장하기 전에 이전 플롯을 지웁니다.\n",
    "    plt.savefig(f'png_work/frame_{index}.png')\n",
    "    plt.close()  # 현재 플롯을 닫아서 다음 플롯이 올바르게 그려지도록 합니다."
   ]
  },
  {
   "cell_type": "code",
   "execution_count": 61,
   "metadata": {},
   "outputs": [],
   "source": [
    "def create_gif(data1, fps=2, num_pkl = 0, num_person = 0) :\n",
    "    for i in range(len(data1)):\n",
    "        points_to_2d(data1, i)\n",
    "    images = []\n",
    "    for i in range(len(data1)):\n",
    "        images.append(imageio.imread(f'png_work/frame_{i}.png'))\n",
    "    imageio.mimsave(f'gifs/plot_animation_{num_pkl}_{num_person}.gif', images, fps=2)  # fps는 초당 프레임 수입니다."
   ]
  },
  {
   "cell_type": "code",
   "execution_count": 63,
   "metadata": {},
   "outputs": [
    {
     "name": "stderr",
     "output_type": "stream",
     "text": [
      "/tmp/ipykernel_379380/2434879014.py:6: DeprecationWarning: Starting with ImageIO v3 the behavior of this function will switch to that of iio.v3.imread. To keep the current behavior (and make this warning disappear) use `import imageio.v2 as imageio` or call `imageio.v2.imread` directly.\n",
      "  images.append(imageio.imread(f'png_work/frame_{i}.png'))\n"
     ]
    }
   ],
   "source": [
    "for num_person in range(len(data['keypoint'])) :\n",
    "    each_data = data['keypoint'][num_person]\n",
    "    create_gif(each_data, num_person = num_person)"
   ]
  },
  {
   "cell_type": "code",
   "execution_count": 64,
   "metadata": {},
   "outputs": [],
   "source": [
    "def extract_pkl(directory) :\n",
    "    pkl_path = []\n",
    "    for root, dirs, files in os.walk(directory):\n",
    "        for file in files:\n",
    "            if file.endswith(\".pkl\"):\n",
    "                full_path = os.path.join(root, file)\n",
    "                pkl_path.append(full_path)\n",
    "    return pkl_path"
   ]
  },
  {
   "cell_type": "code",
   "execution_count": 65,
   "metadata": {},
   "outputs": [],
   "source": [
    "path = \"softlink_retail/01-1.정식개방데이터/Training/03.pickle데이터/TS_03.이상행동_12.절도\"\n",
    "pkl_data = extract_pkl(path)"
   ]
  },
  {
   "cell_type": "code",
   "execution_count": 66,
   "metadata": {},
   "outputs": [],
   "source": [
    "for num_pkl in range(len(pkl_data)) :\n",
    "    with open(pkl_data[num_pkl],\"rb\") as fr:\n",
    "        temp = pickle.load(fr)\n",
    "\n",
    "        for num_person in range(len(temp['keypoint'])) :\n",
    "            each_data = temp['keypoint'][num_person]\n",
    "            create_gif(each_data, num_pkl = num_pkl, num_person = num_person)"
   ]
  },
  {
   "cell_type": "markdown",
   "metadata": {},
   "source": [
    "# pickle 별 사람 동시에 visualize"
   ]
  },
  {
   "cell_type": "code",
   "execution_count": 85,
   "metadata": {},
   "outputs": [],
   "source": [
    "def plot_2d_all(points, frame):\n",
    "    \"\"\"\n",
    "    Plots given coordinates on a 2D plane and fills the area formed by these points.\n",
    "    \n",
    "    Args:\n",
    "    coordinates (list of lists): A list of [x, y] coordinates to be plotted.\n",
    "    \"\"\"\n",
    "    # Creating the plot\n",
    "    plt.figure(figsize=(10, 8))\n",
    "    #plt.fill(x, y, 'r', alpha=0.3)  # Fill the area formed by the points\n",
    "    plt.xlabel('X coordinate')\n",
    "    plt.ylabel('Y coordinate')\n",
    "    plt.xlim(0, 1920)  # Set x axis limit\n",
    "    plt.ylim(1080, 0)  # Set y axis limit\n",
    "    plt.title('2D Plane Coordinates Visualization')\n",
    "    plt.grid(True)\n",
    "    \n",
    "    # Extracting x and y values from the coordinates\n",
    "    for num_people in range(len(points[0])) :\n",
    "        x = [point[0] for point in points[frame][num_people]]\n",
    "        y = [point[1] for point in points[frame][num_people]]\n",
    "        plt.plot(x, y, 'bo')\n",
    "    \n",
    "    \n",
    "    plt.savefig(f'png_work/frame_{frame}.png')\n",
    "    plt.close()  # 현재 플롯을 닫아서 다음 플롯이 올바르게 그려지도록 합니다."
   ]
  },
  {
   "cell_type": "code",
   "execution_count": 86,
   "metadata": {},
   "outputs": [],
   "source": [
    "data_2 = data['keypoint']\n",
    "data3 = data_2.transpose(1,0,2,3) # (frame, num_person, keypoints, axis)"
   ]
  },
  {
   "cell_type": "code",
   "execution_count": 87,
   "metadata": {},
   "outputs": [],
   "source": [
    "for frame in range(len(data3)) :\n",
    "    plot_2d_all(data3, frame = frame)"
   ]
  },
  {
   "cell_type": "code",
   "execution_count": 88,
   "metadata": {},
   "outputs": [],
   "source": [
    "def create_gif_all(data, fps=2, num_pkl = 0) :\n",
    "    for frame in range(len(data)) :\n",
    "        plot_2d_all(data, frame = frame)\n",
    "    images = []\n",
    "    for i in range(len(data)):\n",
    "        images.append(imageio.imread(f'png_work/frame_{i}.png'))\n",
    "    imageio.mimsave(f'gifs/plot_animation_{num_pkl}.gif', images, fps=2)  # fps는 초당 프레임 수입니다."
   ]
  },
  {
   "cell_type": "code",
   "execution_count": 89,
   "metadata": {},
   "outputs": [
    {
     "name": "stderr",
     "output_type": "stream",
     "text": [
      "/tmp/ipykernel_379380/1144710131.py:6: DeprecationWarning: Starting with ImageIO v3 the behavior of this function will switch to that of iio.v3.imread. To keep the current behavior (and make this warning disappear) use `import imageio.v2 as imageio` or call `imageio.v2.imread` directly.\n",
      "  images.append(imageio.imread(f'png_work/frame_{i}.png'))\n"
     ]
    }
   ],
   "source": [
    "create_gif_all(data3, num_pkl = 0)"
   ]
  },
  {
   "cell_type": "code",
   "execution_count": 23,
   "metadata": {},
   "outputs": [
    {
     "ename": "NameError",
     "evalue": "name 'pkl_data' is not defined",
     "output_type": "error",
     "traceback": [
      "\u001b[0;31m---------------------------------------------------------------------------\u001b[0m",
      "\u001b[0;31mNameError\u001b[0m                                 Traceback (most recent call last)",
      "\u001b[0;32m/tmp/ipykernel_379380/385087282.py\u001b[0m in \u001b[0;36m<module>\u001b[0;34m\u001b[0m\n\u001b[0;32m----> 1\u001b[0;31m \u001b[0;32mfor\u001b[0m \u001b[0mnum_pkl\u001b[0m \u001b[0;32min\u001b[0m \u001b[0mrange\u001b[0m\u001b[0;34m(\u001b[0m\u001b[0mlen\u001b[0m\u001b[0;34m(\u001b[0m\u001b[0mpkl_data\u001b[0m\u001b[0;34m)\u001b[0m\u001b[0;34m)\u001b[0m \u001b[0;34m:\u001b[0m\u001b[0;34m\u001b[0m\u001b[0;34m\u001b[0m\u001b[0m\n\u001b[0m\u001b[1;32m      2\u001b[0m     \u001b[0;32mwith\u001b[0m \u001b[0mopen\u001b[0m\u001b[0;34m(\u001b[0m\u001b[0mpkl_data\u001b[0m\u001b[0;34m[\u001b[0m\u001b[0mnum_pkl\u001b[0m\u001b[0;34m]\u001b[0m\u001b[0;34m,\u001b[0m\u001b[0;34m\"rb\"\u001b[0m\u001b[0;34m)\u001b[0m \u001b[0;32mas\u001b[0m \u001b[0mfr\u001b[0m\u001b[0;34m:\u001b[0m\u001b[0;34m\u001b[0m\u001b[0;34m\u001b[0m\u001b[0m\n\u001b[1;32m      3\u001b[0m         \u001b[0mtemp\u001b[0m \u001b[0;34m=\u001b[0m \u001b[0mpickle\u001b[0m\u001b[0;34m.\u001b[0m\u001b[0mload\u001b[0m\u001b[0;34m(\u001b[0m\u001b[0mfr\u001b[0m\u001b[0;34m)\u001b[0m \u001b[0;31m# (num_person, frame, keypoints, axis)\u001b[0m\u001b[0;34m\u001b[0m\u001b[0;34m\u001b[0m\u001b[0m\n\u001b[1;32m      4\u001b[0m \u001b[0;34m\u001b[0m\u001b[0m\n\u001b[1;32m      5\u001b[0m     \u001b[0mtemp1\u001b[0m \u001b[0;34m=\u001b[0m \u001b[0mtemp\u001b[0m\u001b[0;34m[\u001b[0m\u001b[0;34m'keypoint'\u001b[0m\u001b[0;34m]\u001b[0m\u001b[0;34m.\u001b[0m\u001b[0mtranspose\u001b[0m\u001b[0;34m(\u001b[0m\u001b[0;36m1\u001b[0m\u001b[0;34m,\u001b[0m\u001b[0;36m0\u001b[0m\u001b[0;34m,\u001b[0m\u001b[0;36m2\u001b[0m\u001b[0;34m,\u001b[0m\u001b[0;36m3\u001b[0m\u001b[0;34m)\u001b[0m \u001b[0;31m# (frame, num_person, keypoints, axis)\u001b[0m\u001b[0;34m\u001b[0m\u001b[0;34m\u001b[0m\u001b[0m\n",
      "\u001b[0;31mNameError\u001b[0m: name 'pkl_data' is not defined"
     ]
    }
   ],
   "source": [
    "for num_pkl in range(len(pkl_data)) :\n",
    "    with open(pkl_data[num_pkl],\"rb\") as fr:\n",
    "        temp = pickle.load(fr) # (num_person, frame, keypoints, axis)\n",
    "\n",
    "    temp1 = temp['keypoint'].transpose(1,0,2,3) # (frame, num_person, keypoints, axis)\n",
    "    create_gif_all(temp1, num_pkl = num_pkl)"
   ]
  },
  {
   "cell_type": "markdown",
   "metadata": {},
   "source": [
    "# combine pickle"
   ]
  },
  {
   "cell_type": "code",
   "execution_count": 32,
   "metadata": {},
   "outputs": [],
   "source": [
    "import pickle\n",
    "import json\n",
    "import os\n",
    "import numpy as np\n",
    "import torch"
   ]
  },
  {
   "cell_type": "code",
   "execution_count": 78,
   "metadata": {},
   "outputs": [],
   "source": [
    "pkl_file_path =  '/home/bigdeal/mnt2/238-2.실내(편의점,_매장)_사람_이상행동_데이터/PreProcessToPkl/Training/01.원천데이터/TS_03.이상행동_12.절도/C_3_12_6_BU_SMA_08-28_14-04-51_CC_RGB_DF2_F1_105_167.pkl'\n",
    "with open(pkl_file_path,\"rb\") as fr:\n",
    "    data_combine = pickle.load(fr)"
   ]
  },
  {
   "cell_type": "code",
   "execution_count": 79,
   "metadata": {},
   "outputs": [],
   "source": [
    "def plot_2d_all(points, frame):\n",
    "    \"\"\"\n",
    "    Plots given coordinates on a 2D plane and fills the area formed by these points.\n",
    "    \n",
    "    Args:\n",
    "    coordinates (list of lists): A list of [x, y] coordinates to be plotted.\n",
    "    \"\"\"\n",
    "    # Creating the plot\n",
    "    plt.figure(figsize=(10, 8))\n",
    "    #plt.fill(x, y, 'r', alpha=0.3)  # Fill the area formed by the points\n",
    "    plt.xlabel('X coordinate')\n",
    "    plt.ylabel('Y coordinate')\n",
    "    plt.xlim(0, 1920)  # Set x axis limit\n",
    "    plt.ylim(1080, 0)  # Set y axis limit\n",
    "    plt.title('2D Plane Coordinates Visualization')\n",
    "    plt.grid(True)\n",
    "    \n",
    "    # Extracting x and y values from the coordinates\n",
    "    for num_people in range(len(points[0])) :\n",
    "        x = [point[0] for point in points[frame][num_people]]\n",
    "        y = [point[1] for point in points[frame][num_people]]\n",
    "        plt.plot(x, y, 'bo')\n",
    "    \n",
    "    \n",
    "    plt.savefig(f'png_work/frame_{frame}.png')\n",
    "    plt.close()  # 현재 플롯을 닫아서 다음 플롯이 올바르게 그려지도록 합니다."
   ]
  },
  {
   "cell_type": "code",
   "execution_count": 80,
   "metadata": {},
   "outputs": [],
   "source": [
    "def create_gif_all(data, index, fps=2, num_pkl = 0) :\n",
    "    for frame in range(len(data)) :\n",
    "        plot_2d_all(data, frame = frame)\n",
    "    images = []\n",
    "    for i in range(len(data)):\n",
    "        images.append(imageio.imread(f'png_work/frame_{i}.png'))\n",
    "    imageio.mimsave(f'gifs/plot_animation_all_{index}_{num_pkl}.gif', images, fps=2)  # fps는 초당 프레임 수입니다."
   ]
  },
  {
   "cell_type": "code",
   "execution_count": 83,
   "metadata": {},
   "outputs": [
    {
     "ename": "KeyError",
     "evalue": "'annotations'",
     "output_type": "error",
     "traceback": [
      "\u001b[0;31m---------------------------------------------------------------------------\u001b[0m",
      "\u001b[0;31mKeyError\u001b[0m                                  Traceback (most recent call last)",
      "\u001b[0;32m/tmp/ipykernel_379380/1809201190.py\u001b[0m in \u001b[0;36m<module>\u001b[0;34m\u001b[0m\n\u001b[1;32m      1\u001b[0m \u001b[0mindex\u001b[0m \u001b[0;34m=\u001b[0m \u001b[0;36m4100\u001b[0m\u001b[0;34m\u001b[0m\u001b[0;34m\u001b[0m\u001b[0m\n\u001b[0;32m----> 2\u001b[0;31m \u001b[0mdata_2\u001b[0m \u001b[0;34m=\u001b[0m \u001b[0mdata_combine\u001b[0m\u001b[0;34m[\u001b[0m\u001b[0;34m'annotations'\u001b[0m\u001b[0;34m]\u001b[0m\u001b[0;34m[\u001b[0m\u001b[0mindex\u001b[0m\u001b[0;34m]\u001b[0m\u001b[0;34m[\u001b[0m\u001b[0;34m'keypoint'\u001b[0m\u001b[0;34m]\u001b[0m\u001b[0;34m\u001b[0m\u001b[0;34m\u001b[0m\u001b[0m\n\u001b[0m\u001b[1;32m      3\u001b[0m \u001b[0mdata3\u001b[0m \u001b[0;34m=\u001b[0m \u001b[0mdata_2\u001b[0m\u001b[0;34m.\u001b[0m\u001b[0mtranspose\u001b[0m\u001b[0;34m(\u001b[0m\u001b[0;36m1\u001b[0m\u001b[0;34m,\u001b[0m\u001b[0;36m0\u001b[0m\u001b[0;34m,\u001b[0m\u001b[0;36m2\u001b[0m\u001b[0;34m,\u001b[0m\u001b[0;36m3\u001b[0m\u001b[0;34m)\u001b[0m \u001b[0;31m# (frame, num_person, keypoints, axis)\u001b[0m\u001b[0;34m\u001b[0m\u001b[0;34m\u001b[0m\u001b[0m\n\u001b[1;32m      4\u001b[0m \u001b[0mdata3\u001b[0m\u001b[0;34m.\u001b[0m\u001b[0mshape\u001b[0m\u001b[0;34m\u001b[0m\u001b[0;34m\u001b[0m\u001b[0m\n",
      "\u001b[0;31mKeyError\u001b[0m: 'annotations'"
     ]
    }
   ],
   "source": [
    "index = 4100\n",
    "data_2 = data_combine['annotations'][index]['keypoint']\n",
    "data3 = data_2.transpose(1,0,2,3) # (frame, num_person, keypoints, axis)\n",
    "data3.shape"
   ]
  },
  {
   "cell_type": "code",
   "execution_count": 82,
   "metadata": {},
   "outputs": [
    {
     "name": "stderr",
     "output_type": "stream",
     "text": [
      "/tmp/ipykernel_379380/1666474488.py:6: DeprecationWarning: Starting with ImageIO v3 the behavior of this function will switch to that of iio.v3.imread. To keep the current behavior (and make this warning disappear) use `import imageio.v2 as imageio` or call `imageio.v2.imread` directly.\n",
      "  images.append(imageio.imread(f'png_work/frame_{i}.png'))\n"
     ]
    }
   ],
   "source": [
    "create_gif_all(data3, index = index, num_pkl = 0)"
   ]
  },
  {
   "cell_type": "code",
   "execution_count": null,
   "metadata": {},
   "outputs": [],
   "source": []
  }
 ],
 "metadata": {
  "kernelspec": {
   "display_name": "openmmlab",
   "language": "python",
   "name": "python3"
  },
  "language_info": {
   "codemirror_mode": {
    "name": "ipython",
    "version": 3
   },
   "file_extension": ".py",
   "mimetype": "text/x-python",
   "name": "python",
   "nbconvert_exporter": "python",
   "pygments_lexer": "ipython3",
   "version": "3.8.18"
  }
 },
 "nbformat": 4,
 "nbformat_minor": 2
}
