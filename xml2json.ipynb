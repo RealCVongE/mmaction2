{
 "cells": [
  {
   "cell_type": "code",
   "execution_count": 5,
   "metadata": {},
   "outputs": [
    {
     "ename": "FileNotFoundError",
     "evalue": "[Errno 2] No such file or directory: 'configs/model1/cfgs1.py'",
     "output_type": "error",
     "traceback": [
      "\u001b[1;31m---------------------------------------------------------------------------\u001b[0m",
      "\u001b[1;31mFileNotFoundError\u001b[0m                         Traceback (most recent call last)",
      "Cell \u001b[1;32mIn[5], line 10\u001b[0m\n\u001b[0;32m      7\u001b[0m device \u001b[38;5;241m=\u001b[39m torch\u001b[38;5;241m.\u001b[39mdevice(\u001b[38;5;124m'\u001b[39m\u001b[38;5;124mcuda\u001b[39m\u001b[38;5;124m'\u001b[39m)\n\u001b[0;32m      9\u001b[0m \u001b[38;5;66;03m# config, ckpt를 활용해 모델 생성\u001b[39;00m\n\u001b[1;32m---> 10\u001b[0m model \u001b[38;5;241m=\u001b[39m \u001b[43minit_recognizer\u001b[49m\u001b[43m(\u001b[49m\u001b[43mcfgs\u001b[49m\u001b[43m,\u001b[49m\u001b[43m \u001b[49m\u001b[43mckpt\u001b[49m\u001b[43m,\u001b[49m\u001b[43m \u001b[49m\u001b[43mdevice\u001b[49m\u001b[38;5;241;43m=\u001b[39;49m\u001b[43mdevice\u001b[49m\u001b[43m)\u001b[49m\n\u001b[0;32m     12\u001b[0m \u001b[38;5;66;03m# inference\u001b[39;00m\n\u001b[0;32m     13\u001b[0m video \u001b[38;5;241m=\u001b[39m \u001b[38;5;124m'\u001b[39m\u001b[38;5;124mSample_buying/Sample/01.원천데이터/02.구매행동/02.선택/C_2_2_10_BU_SYA_09-17_16-18-31_CA_RGB_DF1_F1_F1.mp4\u001b[39m\u001b[38;5;124m'\u001b[39m\n",
      "File \u001b[1;32mc:\\Users\\ljy25\\mmaction2\\mmaction\\apis\\inference.py:37\u001b[0m, in \u001b[0;36minit_recognizer\u001b[1;34m(config, checkpoint, device)\u001b[0m\n\u001b[0;32m     23\u001b[0m \u001b[38;5;250m\u001b[39m\u001b[38;5;124;03m\"\"\"Initialize a recognizer from config file.\u001b[39;00m\n\u001b[0;32m     24\u001b[0m \n\u001b[0;32m     25\u001b[0m \u001b[38;5;124;03mArgs:\u001b[39;00m\n\u001b[1;32m   (...)\u001b[0m\n\u001b[0;32m     34\u001b[0m \u001b[38;5;124;03m    nn.Module: The constructed recognizer.\u001b[39;00m\n\u001b[0;32m     35\u001b[0m \u001b[38;5;124;03m\"\"\"\u001b[39;00m\n\u001b[0;32m     36\u001b[0m \u001b[38;5;28;01mif\u001b[39;00m \u001b[38;5;28misinstance\u001b[39m(config, (\u001b[38;5;28mstr\u001b[39m, Path)):\n\u001b[1;32m---> 37\u001b[0m     config \u001b[38;5;241m=\u001b[39m \u001b[43mmmengine\u001b[49m\u001b[38;5;241;43m.\u001b[39;49m\u001b[43mConfig\u001b[49m\u001b[38;5;241;43m.\u001b[39;49m\u001b[43mfromfile\u001b[49m\u001b[43m(\u001b[49m\u001b[43mconfig\u001b[49m\u001b[43m)\u001b[49m\n\u001b[0;32m     38\u001b[0m \u001b[38;5;28;01melif\u001b[39;00m \u001b[38;5;129;01mnot\u001b[39;00m \u001b[38;5;28misinstance\u001b[39m(config, mmengine\u001b[38;5;241m.\u001b[39mConfig):\n\u001b[0;32m     39\u001b[0m     \u001b[38;5;28;01mraise\u001b[39;00m \u001b[38;5;167;01mTypeError\u001b[39;00m(\u001b[38;5;124m'\u001b[39m\u001b[38;5;124mconfig must be a filename or Config object, \u001b[39m\u001b[38;5;124m'\u001b[39m\n\u001b[0;32m     40\u001b[0m                     \u001b[38;5;124mf\u001b[39m\u001b[38;5;124m'\u001b[39m\u001b[38;5;124mbut got \u001b[39m\u001b[38;5;132;01m{\u001b[39;00m\u001b[38;5;28mtype\u001b[39m(config)\u001b[38;5;132;01m}\u001b[39;00m\u001b[38;5;124m'\u001b[39m)\n",
      "File \u001b[1;32mc:\\users\\ljy25\\mmengine\\mmengine\\config\\config.py:460\u001b[0m, in \u001b[0;36mConfig.fromfile\u001b[1;34m(filename, use_predefined_variables, import_custom_modules, use_environment_variables, lazy_import, format_python_code)\u001b[0m\n\u001b[0;32m    439\u001b[0m \u001b[38;5;250m\u001b[39m\u001b[38;5;124;03m\"\"\"Build a Config instance from config file.\u001b[39;00m\n\u001b[0;32m    440\u001b[0m \n\u001b[0;32m    441\u001b[0m \u001b[38;5;124;03mArgs:\u001b[39;00m\n\u001b[1;32m   (...)\u001b[0m\n\u001b[0;32m    456\u001b[0m \u001b[38;5;124;03m    Config: Config instance built from config file.\u001b[39;00m\n\u001b[0;32m    457\u001b[0m \u001b[38;5;124;03m\"\"\"\u001b[39;00m\n\u001b[0;32m    458\u001b[0m filename \u001b[38;5;241m=\u001b[39m \u001b[38;5;28mstr\u001b[39m(filename) \u001b[38;5;28;01mif\u001b[39;00m \u001b[38;5;28misinstance\u001b[39m(filename, Path) \u001b[38;5;28;01melse\u001b[39;00m filename\n\u001b[0;32m    459\u001b[0m \u001b[38;5;28;01mif\u001b[39;00m lazy_import \u001b[38;5;129;01mis\u001b[39;00m \u001b[38;5;28;01mFalse\u001b[39;00m \u001b[38;5;129;01mor\u001b[39;00m \\\n\u001b[1;32m--> 460\u001b[0m    lazy_import \u001b[38;5;129;01mis\u001b[39;00m \u001b[38;5;28;01mNone\u001b[39;00m \u001b[38;5;129;01mand\u001b[39;00m \u001b[38;5;129;01mnot\u001b[39;00m \u001b[43mConfig\u001b[49m\u001b[38;5;241;43m.\u001b[39;49m\u001b[43m_is_lazy_import\u001b[49m\u001b[43m(\u001b[49m\u001b[43mfilename\u001b[49m\u001b[43m)\u001b[49m:\n\u001b[0;32m    461\u001b[0m     cfg_dict, cfg_text, env_variables \u001b[38;5;241m=\u001b[39m Config\u001b[38;5;241m.\u001b[39m_file2dict(\n\u001b[0;32m    462\u001b[0m         filename, use_predefined_variables, use_environment_variables,\n\u001b[0;32m    463\u001b[0m         lazy_import)\n\u001b[0;32m    464\u001b[0m     \u001b[38;5;28;01mif\u001b[39;00m import_custom_modules \u001b[38;5;129;01mand\u001b[39;00m cfg_dict\u001b[38;5;241m.\u001b[39mget(\u001b[38;5;124m'\u001b[39m\u001b[38;5;124mcustom_imports\u001b[39m\u001b[38;5;124m'\u001b[39m, \u001b[38;5;28;01mNone\u001b[39;00m):\n",
      "File \u001b[1;32mc:\\users\\ljy25\\mmengine\\mmengine\\config\\config.py:1661\u001b[0m, in \u001b[0;36mConfig._is_lazy_import\u001b[1;34m(filename)\u001b[0m\n\u001b[0;32m   1659\u001b[0m \u001b[38;5;28;01mif\u001b[39;00m \u001b[38;5;129;01mnot\u001b[39;00m filename\u001b[38;5;241m.\u001b[39mendswith(\u001b[38;5;124m'\u001b[39m\u001b[38;5;124m.py\u001b[39m\u001b[38;5;124m'\u001b[39m):\n\u001b[0;32m   1660\u001b[0m     \u001b[38;5;28;01mreturn\u001b[39;00m \u001b[38;5;28;01mFalse\u001b[39;00m\n\u001b[1;32m-> 1661\u001b[0m \u001b[38;5;28;01mwith\u001b[39;00m \u001b[38;5;28;43mopen\u001b[39;49m\u001b[43m(\u001b[49m\u001b[43mfilename\u001b[49m\u001b[43m,\u001b[49m\u001b[43m \u001b[49m\u001b[43mencoding\u001b[49m\u001b[38;5;241;43m=\u001b[39;49m\u001b[38;5;124;43m'\u001b[39;49m\u001b[38;5;124;43mutf-8\u001b[39;49m\u001b[38;5;124;43m'\u001b[39;49m\u001b[43m)\u001b[49m \u001b[38;5;28;01mas\u001b[39;00m f:\n\u001b[0;32m   1662\u001b[0m     codes_str \u001b[38;5;241m=\u001b[39m f\u001b[38;5;241m.\u001b[39mread()\n\u001b[0;32m   1663\u001b[0m     parsed_codes \u001b[38;5;241m=\u001b[39m ast\u001b[38;5;241m.\u001b[39mparse(codes_str)\n",
      "\u001b[1;31mFileNotFoundError\u001b[0m: [Errno 2] No such file or directory: 'configs/model1/cfgs1.py'"
     ]
    }
   ],
   "source": [
    "import torch\n",
    "from mmaction.apis import init_recognizer, inference_recognizer\n",
    "import mmcv\n",
    "\n",
    "cfgs = 'configs/model1/cfgs1.py'\n",
    "ckpt = 'checkpoints/ckpt.pth'\n",
    "device = torch.device('cuda')\n",
    "\n",
    "# config, ckpt를 활용해 모델 생성\n",
    "model = init_recognizer(cfgs, ckpt, device=device)\n",
    "\n",
    "# inference\n",
    "video = 'Sample_buying/Sample/01.원천데이터/02.구매행동/02.선택/C_2_2_10_BU_SYA_09-17_16-18-31_CA_RGB_DF1_F1_F1.mp4'\n",
    "labels = 'Sample_buying/Sample/02.라벨링데이터/02.구매행동/02.선택/C_2_2_10_BU_SYA_09-17_16-18-31_CA_RGB_DF1_F1_F1.xml'\n",
    "results = inference_recognizer(model, video)\n",
    "\n",
    "labels = open(labels).readlines()\n",
    "labels = [x.strip() for x in labels]\n",
    "results = [(labels[k[0]], k[1]) for k in results]\n",
    "\n",
    "print(f'The top-5 labels with corresponding scores are: ')\n",
    "for result in results:\n",
    "\tprint(f'{result[0]}: ', result[1])"
   ]
  },
  {
   "cell_type": "markdown",
   "metadata": {},
   "source": [
    "# xml to json"
   ]
  },
  {
   "cell_type": "code",
   "execution_count": 1,
   "metadata": {},
   "outputs": [],
   "source": [
    "import xmltodict\n",
    "import json\n",
    "\n",
    "def convert_xml_to_json(xml_file_path, json_file_path):\n",
    "    # XML 파일을 열고 읽기\n",
    "    with open(xml_file_path, 'r', encoding='utf-8') as file:\n",
    "        xml_string = file.read()\n",
    "    \n",
    "    # XML 문자열을 파이썬 딕셔너리로 변환\n",
    "    dict_data = xmltodict.parse(xml_string)\n",
    "    \n",
    "    # 딕셔너리를 JSON 파일로 저장\n",
    "    with open(json_file_path, 'w', encoding='utf-8') as json_file:\n",
    "        json_file.write(json.dumps(dict_data, indent=4))\n",
    "\n",
    "# 사용 예제\n",
    "xml_file_path = 'Sample_buying/Sample/02.라벨링데이터/02.구매행동/02.선택/C_2_2_10_BU_SYA_09-17_16-18-31_CA_RGB_DF1_F1_F1.xml'\n",
    "json_file_path = 'Sample_buying/Sample/02.라벨링데이터/02.구매행동/02.선택/C_2_2_10_BU_SYA_09-17_16-18-31_CA_RGB_DF1_F1_F1.json'\n",
    "\n",
    "convert_xml_to_json(xml_file_path, json_file_path)\n"
   ]
  },
  {
   "cell_type": "code",
   "execution_count": null,
   "metadata": {},
   "outputs": [],
   "source": [
    "!python "
   ]
  },
  {
   "cell_type": "code",
   "execution_count": 5,
   "metadata": {},
   "outputs": [
    {
     "name": "stdout",
     "output_type": "stream",
     "text": [
      "Collecting xmldict\n",
      "  Downloading xmldict-0.4.1.tar.gz (2.6 kB)\n",
      "  Preparing metadata (setup.py) ... \u001b[?25ldone\n",
      "\u001b[?25hBuilding wheels for collected packages: xmldict\n",
      "  Building wheel for xmldict (setup.py) ... \u001b[?25ldone\n",
      "\u001b[?25h  Created wheel for xmldict: filename=xmldict-0.4.1-py3-none-any.whl size=2912 sha256=0d4ef26a849cefe13d00f9d7e19156b8b3701083b7c1fc14760cf58256185761\n",
      "  Stored in directory: /home/bigdeal/.cache/pip/wheels/4d/15/09/20e14584595a0d89a1fc708b9df8eca704778e1d8715e8a3c0\n",
      "Successfully built xmldict\n",
      "Installing collected packages: xmldict\n",
      "Successfully installed xmldict-0.4.1\n"
     ]
    }
   ],
   "source": [
    "!pip install xmldict"
   ]
  },
  {
   "cell_type": "code",
   "execution_count": null,
   "metadata": {},
   "outputs": [],
   "source": []
  }
 ],
 "metadata": {
  "kernelspec": {
   "display_name": "openmmlab",
   "language": "python",
   "name": "python3"
  },
  "language_info": {
   "codemirror_mode": {
    "name": "ipython",
    "version": 3
   },
   "file_extension": ".py",
   "mimetype": "text/x-python",
   "name": "python",
   "nbconvert_exporter": "python",
   "pygments_lexer": "ipython3",
   "version": "3.8.18"
  }
 },
 "nbformat": 4,
 "nbformat_minor": 2
}
